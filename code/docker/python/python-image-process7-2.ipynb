{
 "cells": [
  {
   "cell_type": "code",
   "execution_count": 1,
   "metadata": {
    "collapsed": false,
    "scrolled": false
   },
   "outputs": [
    {
     "name": "stderr",
     "output_type": "stream",
     "text": [
      "ERROR:tornado.application:Exception in callback functools.partial(<function wrap.<locals>.null_wrapper at 0x7f23da576e18>)\n",
      "Traceback (most recent call last):\n",
      "  File \"/usr/local/lib/python3.4/dist-packages/tornado/ioloop.py\", line 600, in _run_callback\n",
      "    ret = callback()\n",
      "  File \"/usr/local/lib/python3.4/dist-packages/tornado/stack_context.py\", line 275, in null_wrapper\n",
      "    return fn(*args, **kwargs)\n",
      "  File \"/usr/local/lib/python3.4/dist-packages/IPython/kernel/zmq/kernelbase.py\", line 234, in enter_eventloop\n",
      "    self.eventloop(self)\n",
      "  File \"/usr/local/lib/python3.4/dist-packages/IPython/kernel/zmq/eventloops.py\", line 168, in loop_tk\n",
      "    kernel.timer = Timer(doi)\n",
      "  File \"/usr/local/lib/python3.4/dist-packages/IPython/kernel/zmq/eventloops.py\", line 156, in __init__\n",
      "    self.app = Tk()\n",
      "  File \"/usr/lib/python3.4/tkinter/__init__.py\", line 1854, in __init__\n",
      "    self.tk = _tkinter.create(screenName, baseName, className, interactive, wantobjects, useTk, sync, use)\n",
      "_tkinter.TclError: no display name and no $DISPLAY environment variable\n"
     ]
    }
   ],
   "source": [
    "import pickle\n",
    "import sift\n",
    "import imagesearch"
   ]
  },
  {
   "cell_type": "markdown",
   "metadata": {},
   "source": [
    "# 画像リストの取得"
   ]
  },
  {
   "cell_type": "code",
   "execution_count": 2,
   "metadata": {
    "collapsed": true
   },
   "outputs": [],
   "source": [
    "with open(\"./data/webimlist.txt\") as f:\n",
    "    imlist = f.readlines()\n",
    "nbr_images = len(imlist)"
   ]
  },
  {
   "cell_type": "markdown",
   "metadata": {},
   "source": [
    "# 画像と特徴量の語彙データ取得"
   ]
  },
  {
   "cell_type": "code",
   "execution_count": 3,
   "metadata": {
    "collapsed": true
   },
   "outputs": [],
   "source": [
    "with open(\"data/vocabulary.pkl\", \"rb\") as f:\n",
    "    voc = pickle.load(f)"
   ]
  },
  {
   "cell_type": "markdown",
   "metadata": {},
   "source": [
    "# 画像検索用のテーブル作成"
   ]
  },
  {
   "cell_type": "code",
   "execution_count": 4,
   "metadata": {
    "collapsed": false,
    "scrolled": true
   },
   "outputs": [],
   "source": [
    "indx = imagesearch.Indexer(\"test.db\", voc)\n",
    "indx.create_tables()"
   ]
  },
  {
   "cell_type": "markdown",
   "metadata": {},
   "source": [
    "# DBにデータを挿入"
   ]
  },
  {
   "cell_type": "code",
   "execution_count": 5,
   "metadata": {
    "collapsed": false
   },
   "outputs": [
    {
     "name": "stdout",
     "output_type": "stream",
     "text": [
      "indexing data/thumbnails/ukbench00000.th.jpg\n",
      "\n",
      "indexing data/thumbnails/ukbench00001.th.jpg\n",
      "\n",
      "indexing data/thumbnails/ukbench00002.th.jpg\n",
      "\n",
      "indexing data/thumbnails/ukbench00003.th.jpg\n",
      "\n",
      "indexing data/thumbnails/ukbench00004.th.jpg\n",
      "\n",
      "indexing data/thumbnails/ukbench00005.th.jpg\n",
      "\n",
      "indexing data/thumbnails/ukbench00006.th.jpg\n",
      "\n",
      "indexing data/thumbnails/ukbench00007.th.jpg\n",
      "\n",
      "indexing data/thumbnails/ukbench00008.th.jpg\n",
      "\n",
      "indexing data/thumbnails/ukbench00009.th.jpg\n",
      "\n",
      "indexing data/thumbnails/ukbench00010.th.jpg\n",
      "\n",
      "indexing data/thumbnails/ukbench00011.th.jpg\n",
      "\n",
      "indexing data/thumbnails/ukbench00012.th.jpg\n",
      "\n",
      "indexing data/thumbnails/ukbench00013.th.jpg\n",
      "\n",
      "indexing data/thumbnails/ukbench00014.th.jpg\n",
      "\n",
      "indexing data/thumbnails/ukbench00015.th.jpg\n",
      "\n",
      "indexing data/thumbnails/ukbench00016.th.jpg\n",
      "\n",
      "indexing data/thumbnails/ukbench00017.th.jpg\n",
      "\n",
      "indexing data/thumbnails/ukbench00018.th.jpg\n",
      "\n",
      "indexing data/thumbnails/ukbench00019.th.jpg\n",
      "\n",
      "indexing data/thumbnails/ukbench00020.th.jpg\n",
      "\n",
      "indexing data/thumbnails/ukbench00021.th.jpg\n",
      "\n",
      "indexing data/thumbnails/ukbench00022.th.jpg\n",
      "\n",
      "indexing data/thumbnails/ukbench00023.th.jpg\n",
      "\n",
      "indexing data/thumbnails/ukbench00024.th.jpg\n",
      "\n",
      "indexing data/thumbnails/ukbench00025.th.jpg\n",
      "\n",
      "indexing data/thumbnails/ukbench00026.th.jpg\n",
      "\n",
      "indexing data/thumbnails/ukbench00027.th.jpg\n",
      "\n",
      "indexing data/thumbnails/ukbench00028.th.jpg\n",
      "\n",
      "indexing data/thumbnails/ukbench00029.th.jpg\n",
      "\n",
      "indexing data/thumbnails/ukbench00030.th.jpg\n",
      "\n",
      "indexing data/thumbnails/ukbench00031.th.jpg\n",
      "\n",
      "indexing data/thumbnails/ukbench00032.th.jpg\n",
      "\n",
      "indexing data/thumbnails/ukbench00033.th.jpg\n",
      "\n",
      "indexing data/thumbnails/ukbench00034.th.jpg\n",
      "\n",
      "indexing data/thumbnails/ukbench00035.th.jpg\n",
      "\n",
      "indexing data/thumbnails/ukbench00036.th.jpg\n",
      "\n",
      "indexing data/thumbnails/ukbench00037.th.jpg\n",
      "\n",
      "indexing data/thumbnails/ukbench00038.th.jpg\n",
      "\n",
      "indexing data/thumbnails/ukbench00039.th.jpg\n",
      "\n",
      "indexing data/thumbnails/ukbench00040.th.jpg\n",
      "\n",
      "indexing data/thumbnails/ukbench00041.th.jpg\n",
      "\n",
      "indexing data/thumbnails/ukbench00042.th.jpg\n",
      "\n",
      "indexing data/thumbnails/ukbench00043.th.jpg\n",
      "\n",
      "indexing data/thumbnails/ukbench00044.th.jpg\n",
      "\n",
      "indexing data/thumbnails/ukbench00045.th.jpg\n",
      "\n",
      "indexing data/thumbnails/ukbench00046.th.jpg\n",
      "\n",
      "indexing data/thumbnails/ukbench00047.th.jpg\n",
      "\n",
      "indexing data/thumbnails/ukbench00048.th.jpg\n",
      "\n",
      "indexing data/thumbnails/ukbench00049.th.jpg\n",
      "\n",
      "indexing data/thumbnails/ukbench00050.th.jpg\n",
      "\n",
      "indexing data/thumbnails/ukbench00051.th.jpg\n",
      "\n",
      "indexing data/thumbnails/ukbench00052.th.jpg\n",
      "\n",
      "indexing data/thumbnails/ukbench00053.th.jpg\n",
      "\n",
      "indexing data/thumbnails/ukbench00054.th.jpg\n",
      "\n",
      "indexing data/thumbnails/ukbench00055.th.jpg\n",
      "\n",
      "indexing data/thumbnails/ukbench00056.th.jpg\n",
      "\n",
      "indexing data/thumbnails/ukbench00057.th.jpg\n",
      "\n",
      "indexing data/thumbnails/ukbench00058.th.jpg\n",
      "\n",
      "indexing data/thumbnails/ukbench00059.th.jpg\n",
      "\n",
      "indexing data/thumbnails/ukbench00060.th.jpg\n",
      "\n",
      "indexing data/thumbnails/ukbench00061.th.jpg\n",
      "\n",
      "indexing data/thumbnails/ukbench00062.th.jpg\n",
      "\n",
      "indexing data/thumbnails/ukbench00063.th.jpg\n",
      "\n",
      "indexing data/thumbnails/ukbench00064.th.jpg\n",
      "\n",
      "indexing data/thumbnails/ukbench00065.th.jpg\n",
      "\n",
      "indexing data/thumbnails/ukbench00066.th.jpg\n",
      "\n",
      "indexing data/thumbnails/ukbench00067.th.jpg\n",
      "\n",
      "indexing data/thumbnails/ukbench00068.th.jpg\n",
      "\n",
      "indexing data/thumbnails/ukbench00069.th.jpg\n",
      "\n",
      "indexing data/thumbnails/ukbench00070.th.jpg\n",
      "\n",
      "indexing data/thumbnails/ukbench00071.th.jpg\n",
      "\n",
      "indexing data/thumbnails/ukbench00072.th.jpg\n",
      "\n",
      "indexing data/thumbnails/ukbench00073.th.jpg\n",
      "\n",
      "indexing data/thumbnails/ukbench00074.th.jpg\n",
      "\n",
      "indexing data/thumbnails/ukbench00075.th.jpg\n",
      "\n",
      "indexing data/thumbnails/ukbench00076.th.jpg\n",
      "\n",
      "indexing data/thumbnails/ukbench00077.th.jpg\n",
      "\n",
      "indexing data/thumbnails/ukbench00078.th.jpg\n",
      "\n",
      "indexing data/thumbnails/ukbench00079.th.jpg\n",
      "\n",
      "indexing data/thumbnails/ukbench00080.th.jpg\n",
      "\n",
      "indexing data/thumbnails/ukbench00081.th.jpg\n",
      "\n",
      "indexing data/thumbnails/ukbench00082.th.jpg\n",
      "\n",
      "indexing data/thumbnails/ukbench00083.th.jpg\n",
      "\n",
      "indexing data/thumbnails/ukbench00084.th.jpg\n",
      "\n",
      "indexing data/thumbnails/ukbench00085.th.jpg\n",
      "\n",
      "indexing data/thumbnails/ukbench00086.th.jpg\n",
      "\n",
      "indexing data/thumbnails/ukbench00087.th.jpg\n",
      "\n",
      "indexing data/thumbnails/ukbench00088.th.jpg\n",
      "\n",
      "indexing data/thumbnails/ukbench00089.th.jpg\n",
      "\n",
      "indexing data/thumbnails/ukbench00090.th.jpg\n",
      "\n",
      "indexing data/thumbnails/ukbench00091.th.jpg\n",
      "\n",
      "indexing data/thumbnails/ukbench00092.th.jpg\n",
      "\n",
      "indexing data/thumbnails/ukbench00093.th.jpg\n",
      "\n",
      "indexing data/thumbnails/ukbench00094.th.jpg\n",
      "\n",
      "indexing data/thumbnails/ukbench00095.th.jpg\n",
      "\n",
      "indexing data/thumbnails/ukbench00096.th.jpg\n",
      "\n",
      "indexing data/thumbnails/ukbench00097.th.jpg\n",
      "\n",
      "indexing data/thumbnails/ukbench00098.th.jpg\n",
      "\n",
      "indexing data/thumbnails/ukbench00099.th.jpg\n",
      "\n"
     ]
    }
   ],
   "source": [
    "featlist = [ imlist[i][:-3] + \"sift\" for i in range(nbr_images)]\n",
    "\n",
    "for i in range(nbr_images)[:100]:\n",
    "    locs, descr = sift.read_features_from_file(featlist[i])\n",
    "    indx.add_to_index(imlist[i], descr)\n",
    "    \n",
    "indx.db_commit()"
   ]
  },
  {
   "cell_type": "markdown",
   "metadata": {},
   "source": [
    "# データを取得"
   ]
  },
  {
   "cell_type": "code",
   "execution_count": 6,
   "metadata": {
    "collapsed": false
   },
   "outputs": [
    {
     "name": "stdout",
     "output_type": "stream",
     "text": [
      "(100,)\n",
      "('data/thumbnails/ukbench00000.th.jpg\\n',)\n"
     ]
    }
   ],
   "source": [
    "from sqlite3 import dbapi2 as sqlite\n",
    "con = sqlite.connect(\"test.db\")\n",
    "print(con.execute(\"select count (filename) from imlist\").fetchone())\n",
    "print(con.execute(\"select * from imlist\").fetchone())"
   ]
  },
  {
   "cell_type": "code",
   "execution_count": 7,
   "metadata": {
    "collapsed": false
   },
   "outputs": [],
   "source": [
    "src = imagesearch.Searcher(\"test.db\", voc)\n",
    "locs, descr = sift.read_features_from_file(featlist[0])\n",
    "iw = voc.project(descr)"
   ]
  },
  {
   "cell_type": "code",
   "execution_count": 8,
   "metadata": {
    "collapsed": false
   },
   "outputs": [
    {
     "name": "stdout",
     "output_type": "stream",
     "text": [
      "ask using a histogram...\n",
      "[100, 99, 98, 97, 96, 95, 94, 93, 92, 91]\n"
     ]
    }
   ],
   "source": [
    "print(\"ask using a histogram...\")\n",
    "print(src.candidates_from_histogram(iw)[:10])"
   ]
  },
  {
   "cell_type": "code",
   "execution_count": 9,
   "metadata": {
    "collapsed": false
   },
   "outputs": [
    {
     "name": "stdout",
     "output_type": "stream",
     "text": [
      "try a query...\n",
      "[(0.0, 1), (2.6457513110645907, 4), (2.8284271247461903, 2), (2.8284271247461903, 49), (3.0, 22), (3.1622776601683795, 52), (3.3166247903554, 76), (3.4641016151377544, 65), (3.7416573867739413, 67), (4.0, 3)]\n"
     ]
    }
   ],
   "source": [
    "src = imagesearch.Searcher(\"test.db\", voc)\n",
    "print(\"try a query...\")\n",
    "imlist[0]\n",
    "print(src.query(imlist[0])[:10])"
   ]
  },
  {
   "cell_type": "code",
   "execution_count": null,
   "metadata": {
    "collapsed": true
   },
   "outputs": [],
   "source": [
    ""
   ]
  }
 ],
 "metadata": {
  "kernelspec": {
   "display_name": "Python 3",
   "language": "python",
   "name": "python3"
  },
  "language_info": {
   "codemirror_mode": {
    "name": "ipython",
    "version": 3.0
   },
   "file_extension": ".py",
   "mimetype": "text/x-python",
   "name": "python",
   "nbconvert_exporter": "python",
   "pygments_lexer": "ipython3",
   "version": "3.4.3"
  }
 },
 "nbformat": 4,
 "nbformat_minor": 0
}