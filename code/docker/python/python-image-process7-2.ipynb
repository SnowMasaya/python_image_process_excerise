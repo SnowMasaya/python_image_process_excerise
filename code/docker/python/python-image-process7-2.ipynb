{
 "cells": [
  {
   "cell_type": "code",
   "execution_count": 1,
   "metadata": {
    "collapsed": false,
    "scrolled": false
   },
   "outputs": [
    {
     "name": "stderr",
     "output_type": "stream",
     "text": [
      "ERROR:tornado.application:Exception in callback functools.partial(<function wrap.<locals>.null_wrapper at 0x7f9d057b5e18>)\n",
      "Traceback (most recent call last):\n",
      "  File \"/usr/local/lib/python3.4/dist-packages/tornado/ioloop.py\", line 600, in _run_callback\n",
      "    ret = callback()\n",
      "  File \"/usr/local/lib/python3.4/dist-packages/tornado/stack_context.py\", line 275, in null_wrapper\n",
      "    return fn(*args, **kwargs)\n",
      "  File \"/usr/local/lib/python3.4/dist-packages/IPython/kernel/zmq/kernelbase.py\", line 234, in enter_eventloop\n",
      "    self.eventloop(self)\n",
      "  File \"/usr/local/lib/python3.4/dist-packages/IPython/kernel/zmq/eventloops.py\", line 168, in loop_tk\n",
      "    kernel.timer = Timer(doi)\n",
      "  File \"/usr/local/lib/python3.4/dist-packages/IPython/kernel/zmq/eventloops.py\", line 156, in __init__\n",
      "    self.app = Tk()\n",
      "  File \"/usr/lib/python3.4/tkinter/__init__.py\", line 1854, in __init__\n",
      "    self.tk = _tkinter.create(screenName, baseName, className, interactive, wantobjects, useTk, sync, use)\n",
      "_tkinter.TclError: no display name and no $DISPLAY environment variable\n"
     ]
    }
   ],
   "source": [
    "import pickle\n",
    "import sift\n",
    "import imagesearch"
   ]
  },
  {
   "cell_type": "markdown",
   "metadata": {},
   "source": [
    "# 画像リストの取得"
   ]
  },
  {
   "cell_type": "code",
   "execution_count": 2,
   "metadata": {
    "collapsed": true
   },
   "outputs": [],
   "source": [
    "with open(\"./data/webimlist.txt\") as f:\n",
    "    imlist = f.readlines()\n",
    "nbr_images = len(imlist)"
   ]
  },
  {
   "cell_type": "markdown",
   "metadata": {},
   "source": [
    "# 画像と特徴量の語彙データ取得"
   ]
  },
  {
   "cell_type": "code",
   "execution_count": 3,
   "metadata": {
    "collapsed": true
   },
   "outputs": [],
   "source": [
    "with open(\"data/vocabulary.pkl\", \"rb\") as f:\n",
    "    voc = pickle.load(f)"
   ]
  },
  {
   "cell_type": "markdown",
   "metadata": {},
   "source": [
    "# 画像検索用のテーブル作成"
   ]
  },
  {
   "cell_type": "code",
   "execution_count": 4,
   "metadata": {
    "collapsed": false,
    "scrolled": true
   },
   "outputs": [
    {
     "ename": "OperationalError",
     "evalue": "table imlist already exists",
     "output_type": "error",
     "traceback": [
      "\u001b[1;31m---------------------------------------------------------------------------\u001b[0m",
      "\u001b[1;31mOperationalError\u001b[0m                          Traceback (most recent call last)",
      "\u001b[1;32m<ipython-input-4-e5d49a15d658>\u001b[0m in \u001b[0;36m<module>\u001b[1;34m()\u001b[0m\n\u001b[0;32m      1\u001b[0m \u001b[0mindx\u001b[0m \u001b[1;33m=\u001b[0m \u001b[0mimagesearch\u001b[0m\u001b[1;33m.\u001b[0m\u001b[0mIndexer\u001b[0m\u001b[1;33m(\u001b[0m\u001b[1;34m\"test.db\"\u001b[0m\u001b[1;33m,\u001b[0m \u001b[0mvoc\u001b[0m\u001b[1;33m)\u001b[0m\u001b[1;33m\u001b[0m\u001b[0m\n\u001b[1;32m----> 2\u001b[1;33m \u001b[0mindx\u001b[0m\u001b[1;33m.\u001b[0m\u001b[0mcreate_tables\u001b[0m\u001b[1;33m(\u001b[0m\u001b[1;33m)\u001b[0m\u001b[1;33m\u001b[0m\u001b[0m\n\u001b[0m",
      "\u001b[1;32m/home/imagesearch.py\u001b[0m in \u001b[0;36mcreate_tables\u001b[1;34m(self)\u001b[0m\n\u001b[0;32m     29\u001b[0m \u001b[1;33m\u001b[0m\u001b[0m\n\u001b[0;32m     30\u001b[0m     \u001b[1;32mdef\u001b[0m \u001b[0mcreate_tables\u001b[0m\u001b[1;33m(\u001b[0m\u001b[0mself\u001b[0m\u001b[1;33m)\u001b[0m\u001b[1;33m:\u001b[0m\u001b[1;33m\u001b[0m\u001b[0m\n\u001b[1;32m---> 31\u001b[1;33m         \u001b[0mself\u001b[0m\u001b[1;33m.\u001b[0m\u001b[0mcon\u001b[0m\u001b[1;33m.\u001b[0m\u001b[0mexecute\u001b[0m\u001b[1;33m(\u001b[0m\u001b[1;34m\"create table imlist(filename)\"\u001b[0m\u001b[1;33m)\u001b[0m\u001b[1;33m\u001b[0m\u001b[0m\n\u001b[0m\u001b[0;32m     32\u001b[0m         \u001b[0mself\u001b[0m\u001b[1;33m.\u001b[0m\u001b[0mcon\u001b[0m\u001b[1;33m.\u001b[0m\u001b[0mexecute\u001b[0m\u001b[1;33m(\u001b[0m\u001b[1;34m\"create table imwords(imid, wordid, vocname)\"\u001b[0m\u001b[1;33m)\u001b[0m\u001b[1;33m\u001b[0m\u001b[0m\n\u001b[0;32m     33\u001b[0m         \u001b[0mself\u001b[0m\u001b[1;33m.\u001b[0m\u001b[0mcon\u001b[0m\u001b[1;33m.\u001b[0m\u001b[0mexecute\u001b[0m\u001b[1;33m(\u001b[0m\u001b[1;34m\"create table imhistograms(imid, histogram, vocname)\"\u001b[0m\u001b[1;33m)\u001b[0m\u001b[1;33m\u001b[0m\u001b[0m\n",
      "\u001b[1;31mOperationalError\u001b[0m: table imlist already exists"
     ]
    }
   ],
   "source": [
    "indx = imagesearch.Indexer(\"test.db\", voc)\n",
    "indx.create_tables()"
   ]
  },
  {
   "cell_type": "markdown",
   "metadata": {},
   "source": [
    "# DBにデータを挿入"
   ]
  },
  {
   "cell_type": "code",
   "execution_count": 5,
   "metadata": {
    "collapsed": false
   },
   "outputs": [],
   "source": [
    "featlist = [ imlist[i][:-3] + \"sift\" for i in range(nbr_images)]\n",
    "\n",
    "for i in range(nbr_images)[:100]:\n",
    "    locs, descr = sift.read_features_from_file(featlist[i])\n",
    "    indx.add_to_index(imlist[i], descr)\n",
    "    \n",
    "indx.db_commit()"
   ]
  },
  {
   "cell_type": "markdown",
   "metadata": {},
   "source": [
    "# データを取得"
   ]
  },
  {
   "cell_type": "code",
   "execution_count": 6,
   "metadata": {
    "collapsed": false
   },
   "outputs": [
    {
     "name": "stdout",
     "output_type": "stream",
     "text": [
      "(100,)\n",
      "('data/thumbnails/ukbench00000.th.jpg\\n',)\n"
     ]
    }
   ],
   "source": [
    "from sqlite3 import dbapi2 as sqlite\n",
    "con = sqlite.connect(\"test.db\")\n",
    "print(con.execute(\"select count (filename) from imlist\").fetchone())\n",
    "print(con.execute(\"select * from imlist\").fetchone())"
   ]
  },
  {
   "cell_type": "code",
   "execution_count": 7,
   "metadata": {
    "collapsed": false
   },
   "outputs": [],
   "source": [
    "src = imagesearch.Searcher(\"test.db\", voc)\n",
    "locs, descr = sift.read_features_from_file(featlist[0])\n",
    "iw = voc.project(descr)"
   ]
  },
  {
   "cell_type": "code",
   "execution_count": 8,
   "metadata": {
    "collapsed": false
   },
   "outputs": [
    {
     "name": "stdout",
     "output_type": "stream",
     "text": [
      "ask using a histogram...\n",
      "[100, 99, 98, 97, 96, 95, 94, 93, 92, 91]\n"
     ]
    }
   ],
   "source": [
    "print(\"ask using a histogram...\")\n",
    "print(src.candidates_from_histogram(iw)[:10])"
   ]
  },
  {
   "cell_type": "code",
   "execution_count": 9,
   "metadata": {
    "collapsed": false
   },
   "outputs": [
    {
     "name": "stdout",
     "output_type": "stream",
     "text": [
      "try a query...\n",
      "[(0.0, 1), (2.6457513110645907, 4), (2.8284271247461903, 2), (2.8284271247461903, 49), (3.0, 22), (3.1622776601683795, 52), (3.3166247903553998, 76), (3.4641016151377544, 65), (3.7416573867739413, 67), (4.0, 3)]\n"
     ]
    }
   ],
   "source": [
    "src = imagesearch.Searcher(\"test.db\", voc)\n",
    "print(\"try a query...\")\n",
    "imlist[0]\n",
    "print(src.query(imlist[0])[:10])"
   ]
  },
  {
   "cell_type": "code",
   "execution_count": 10,
   "metadata": {
    "collapsed": false
   },
   "outputs": [
    {
     "data": {
      "text/plain": [
       "0.0058823529411764705"
      ]
     },
     "execution_count": 10,
     "metadata": {},
     "output_type": "execute_result"
    }
   ],
   "source": [
    "imagesearch.compute_ukbench_score(src, imlist)"
   ]
  },
  {
   "cell_type": "code",
   "execution_count": null,
   "metadata": {
    "collapsed": true
   },
   "outputs": [],
   "source": []
  },
  {
   "cell_type": "code",
   "execution_count": null,
   "metadata": {
    "collapsed": true
   },
   "outputs": [],
   "source": []
  }
 ],
 "metadata": {
  "kernelspec": {
   "display_name": "Python 3",
   "language": "python",
   "name": "python3"
  },
  "language_info": {
   "codemirror_mode": {
    "name": "ipython",
    "version": 3
   },
   "file_extension": ".py",
   "mimetype": "text/x-python",
   "name": "python",
   "nbconvert_exporter": "python",
   "pygments_lexer": "ipython3",
   "version": "3.4.3"
  }
 },
 "nbformat": 4,
 "nbformat_minor": 0
}
