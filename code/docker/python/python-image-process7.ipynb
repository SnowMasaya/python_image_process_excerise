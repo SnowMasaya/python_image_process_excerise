{
 "cells": [
  {
   "cell_type": "code",
   "execution_count": 1,
   "metadata": {
    "collapsed": false,
    "scrolled": true
   },
   "outputs": [
    {
     "name": "stderr",
     "output_type": "stream",
     "text": [
      "/usr/local/lib/python3.4/dist-packages/matplotlib/font_manager.py:273: UserWarning: Matplotlib is building the font cache using fc-list. This may take a moment.\n",
      "  warnings.warn('Matplotlib is building the font cache using fc-list. This may take a moment.')\n",
      "/usr/local/lib/python3.4/dist-packages/matplotlib/font_manager.py:273: UserWarning: Matplotlib is building the font cache using fc-list. This may take a moment.\n",
      "  warnings.warn('Matplotlib is building the font cache using fc-list. This may take a moment.')\n",
      "ERROR:tornado.application:Exception in callback functools.partial(<function wrap.<locals>.null_wrapper at 0x7fc3ab8772f0>)\n",
      "Traceback (most recent call last):\n",
      "  File \"/usr/local/lib/python3.4/dist-packages/tornado/ioloop.py\", line 600, in _run_callback\n",
      "    ret = callback()\n",
      "  File \"/usr/local/lib/python3.4/dist-packages/tornado/stack_context.py\", line 275, in null_wrapper\n",
      "    return fn(*args, **kwargs)\n",
      "  File \"/usr/local/lib/python3.4/dist-packages/IPython/kernel/zmq/kernelbase.py\", line 234, in enter_eventloop\n",
      "    self.eventloop(self)\n",
      "  File \"/usr/local/lib/python3.4/dist-packages/IPython/kernel/zmq/eventloops.py\", line 168, in loop_tk\n",
      "    kernel.timer = Timer(doi)\n",
      "  File \"/usr/local/lib/python3.4/dist-packages/IPython/kernel/zmq/eventloops.py\", line 156, in __init__\n",
      "    self.app = Tk()\n",
      "  File \"/usr/lib/python3.4/tkinter/__init__.py\", line 1854, in __init__\n",
      "    self.tk = _tkinter.create(screenName, baseName, className, interactive, wantobjects, useTk, sync, use)\n",
      "_tkinter.TclError: no display name and no $DISPLAY environment variable\n"
     ]
    }
   ],
   "source": [
    "import pickle\n",
    "import vocabulary\n",
    "from PIL import *\n",
    "import os"
   ]
  },
  {
   "cell_type": "markdown",
   "metadata": {},
   "source": [
    "# Make sift Data"
   ]
  },
  {
   "cell_type": "code",
   "execution_count": 3,
   "metadata": {
    "collapsed": true
   },
   "outputs": [
    {
     "name": "stdout",
     "output_type": "stream",
     "text": [
      "processed tmp.pgm to data/thumbnails/ukbench00000.th.jsift\n",
      "processed tmp.pgm to data/thumbnails/ukbench00001.th.jsift\n",
      "processed tmp.pgm to data/thumbnails/ukbench00002.th.jsift\n",
      "processed tmp.pgm to data/thumbnails/ukbench00003.th.jsift\n",
      "processed tmp.pgm to data/thumbnails/ukbench00004.th.jsift\n",
      "processed tmp.pgm to data/thumbnails/ukbench00005.th.jsift\n",
      "processed tmp.pgm to data/thumbnails/ukbench00006.th.jsift\n",
      "processed tmp.pgm to data/thumbnails/ukbench00007.th.jsift\n",
      "processed tmp.pgm to data/thumbnails/ukbench00008.th.jsift\n",
      "processed tmp.pgm to data/thumbnails/ukbench00009.th.jsift\n",
      "processed tmp.pgm to data/thumbnails/ukbench00010.th.jsift\n",
      "processed tmp.pgm to data/thumbnails/ukbench00011.th.jsift\n",
      "processed tmp.pgm to data/thumbnails/ukbench00012.th.jsift\n",
      "processed tmp.pgm to data/thumbnails/ukbench00013.th.jsift\n",
      "processed tmp.pgm to data/thumbnails/ukbench00014.th.jsift\n",
      "processed tmp.pgm to data/thumbnails/ukbench00015.th.jsift\n",
      "processed tmp.pgm to data/thumbnails/ukbench00016.th.jsift\n",
      "processed tmp.pgm to data/thumbnails/ukbench00017.th.jsift\n",
      "processed tmp.pgm to data/thumbnails/ukbench00018.th.jsift\n",
      "processed tmp.pgm to data/thumbnails/ukbench00019.th.jsift\n",
      "processed tmp.pgm to data/thumbnails/ukbench00020.th.jsift\n",
      "processed tmp.pgm to data/thumbnails/ukbench00021.th.jsift\n",
      "processed tmp.pgm to data/thumbnails/ukbench00022.th.jsift\n",
      "processed tmp.pgm to data/thumbnails/ukbench00023.th.jsift\n",
      "processed tmp.pgm to data/thumbnails/ukbench00024.th.jsift\n",
      "processed tmp.pgm to data/thumbnails/ukbench00025.th.jsift\n",
      "processed tmp.pgm to data/thumbnails/ukbench00026.th.jsift\n",
      "processed tmp.pgm to data/thumbnails/ukbench00027.th.jsift\n",
      "processed tmp.pgm to data/thumbnails/ukbench00028.th.jsift\n",
      "processed tmp.pgm to data/thumbnails/ukbench00029.th.jsift\n",
      "processed tmp.pgm to data/thumbnails/ukbench00030.th.jsift\n",
      "processed tmp.pgm to data/thumbnails/ukbench00031.th.jsift\n",
      "processed tmp.pgm to data/thumbnails/ukbench00032.th.jsift\n",
      "processed tmp.pgm to data/thumbnails/ukbench00033.th.jsift\n",
      "processed tmp.pgm to data/thumbnails/ukbench00034.th.jsift\n",
      "processed tmp.pgm to data/thumbnails/ukbench00035.th.jsift\n",
      "processed tmp.pgm to data/thumbnails/ukbench00036.th.jsift\n",
      "processed tmp.pgm to data/thumbnails/ukbench00037.th.jsift\n",
      "processed tmp.pgm to data/thumbnails/ukbench00038.th.jsift\n",
      "processed tmp.pgm to data/thumbnails/ukbench00039.th.jsift\n",
      "processed tmp.pgm to data/thumbnails/ukbench00040.th.jsift\n",
      "processed tmp.pgm to data/thumbnails/ukbench00041.th.jsift\n",
      "processed tmp.pgm to data/thumbnails/ukbench00042.th.jsift\n",
      "processed tmp.pgm to data/thumbnails/ukbench00043.th.jsift\n",
      "processed tmp.pgm to data/thumbnails/ukbench00044.th.jsift\n",
      "processed tmp.pgm to data/thumbnails/ukbench00045.th.jsift\n",
      "processed tmp.pgm to data/thumbnails/ukbench00046.th.jsift\n",
      "processed tmp.pgm to data/thumbnails/ukbench00047.th.jsift\n",
      "processed tmp.pgm to data/thumbnails/ukbench00048.th.jsift\n",
      "processed tmp.pgm to data/thumbnails/ukbench00049.th.jsift\n",
      "processed tmp.pgm to data/thumbnails/ukbench00050.th.jsift\n",
      "processed tmp.pgm to data/thumbnails/ukbench00051.th.jsift\n",
      "processed tmp.pgm to data/thumbnails/ukbench00052.th.jsift\n",
      "processed tmp.pgm to data/thumbnails/ukbench00053.th.jsift\n",
      "processed tmp.pgm to data/thumbnails/ukbench00054.th.jsift\n",
      "processed tmp.pgm to data/thumbnails/ukbench00055.th.jsift\n",
      "processed tmp.pgm to data/thumbnails/ukbench00056.th.jsift\n",
      "processed tmp.pgm to data/thumbnails/ukbench00057.th.jsift\n",
      "processed tmp.pgm to data/thumbnails/ukbench00058.th.jsift\n",
      "processed tmp.pgm to data/thumbnails/ukbench00059.th.jsift\n",
      "processed tmp.pgm to data/thumbnails/ukbench00060.th.jsift\n",
      "processed tmp.pgm to data/thumbnails/ukbench00061.th.jsift\n",
      "processed tmp.pgm to data/thumbnails/ukbench00062.th.jsift\n",
      "processed tmp.pgm to data/thumbnails/ukbench00063.th.jsift\n",
      "processed tmp.pgm to data/thumbnails/ukbench00064.th.jsift\n",
      "processed tmp.pgm to data/thumbnails/ukbench00065.th.jsift\n",
      "processed tmp.pgm to data/thumbnails/ukbench00066.th.jsift\n",
      "processed tmp.pgm to data/thumbnails/ukbench00067.th.jsift\n"
     ]
    },
    {
     "ename": "KeyboardInterrupt",
     "evalue": "",
     "traceback": [
      "\u001b[1;31m---------------------------------------------------------------------------\u001b[0m",
      "\u001b[1;31mKeyboardInterrupt\u001b[0m                         Traceback (most recent call last)",
      "\u001b[1;32m<ipython-input-3-bba6a1d7b78e>\u001b[0m in \u001b[0;36m<module>\u001b[1;34m()\u001b[0m\n\u001b[0;32m     12\u001b[0m     \u001b[0mimlist\u001b[0m \u001b[1;33m=\u001b[0m \u001b[0mf\u001b[0m\u001b[1;33m.\u001b[0m\u001b[0mreadlines\u001b[0m\u001b[1;33m(\u001b[0m\u001b[1;33m)\u001b[0m\u001b[1;33m\u001b[0m\u001b[0m\n\u001b[0;32m     13\u001b[0m \u001b[0mnbr_images\u001b[0m \u001b[1;33m=\u001b[0m \u001b[0mlen\u001b[0m\u001b[1;33m(\u001b[0m\u001b[0mimlist\u001b[0m\u001b[1;33m)\u001b[0m\u001b[1;33m\u001b[0m\u001b[0m\n\u001b[1;32m---> 14\u001b[1;33m \u001b[1;33m[\u001b[0m \u001b[0mprocess_image\u001b[0m\u001b[1;33m(\u001b[0m\u001b[0mimlist\u001b[0m\u001b[1;33m[\u001b[0m\u001b[0mi\u001b[0m\u001b[1;33m]\u001b[0m\u001b[1;33m.\u001b[0m\u001b[0mstrip\u001b[0m\u001b[1;33m(\u001b[0m\u001b[1;33m)\u001b[0m\u001b[1;33m,\u001b[0m \u001b[0mimlist\u001b[0m\u001b[1;33m[\u001b[0m\u001b[0mi\u001b[0m\u001b[1;33m]\u001b[0m\u001b[1;33m[\u001b[0m\u001b[1;33m:\u001b[0m\u001b[1;33m-\u001b[0m\u001b[1;36m3\u001b[0m\u001b[1;33m]\u001b[0m\u001b[1;33m.\u001b[0m\u001b[0mstrip\u001b[0m\u001b[1;33m(\u001b[0m\u001b[1;33m)\u001b[0m \u001b[1;33m+\u001b[0m \u001b[1;34m\"sift\"\u001b[0m\u001b[1;33m)\u001b[0m \u001b[1;32mfor\u001b[0m \u001b[0mi\u001b[0m \u001b[1;32min\u001b[0m \u001b[0mrange\u001b[0m\u001b[1;33m(\u001b[0m\u001b[0mnbr_images\u001b[0m\u001b[1;33m)\u001b[0m\u001b[1;33m]\u001b[0m\u001b[1;33m\u001b[0m\u001b[0m\n\u001b[0m",
      "\u001b[1;32m<ipython-input-3-bba6a1d7b78e>\u001b[0m in \u001b[0;36m<listcomp>\u001b[1;34m(.0)\u001b[0m\n\u001b[0;32m     12\u001b[0m     \u001b[0mimlist\u001b[0m \u001b[1;33m=\u001b[0m \u001b[0mf\u001b[0m\u001b[1;33m.\u001b[0m\u001b[0mreadlines\u001b[0m\u001b[1;33m(\u001b[0m\u001b[1;33m)\u001b[0m\u001b[1;33m\u001b[0m\u001b[0m\n\u001b[0;32m     13\u001b[0m \u001b[0mnbr_images\u001b[0m \u001b[1;33m=\u001b[0m \u001b[0mlen\u001b[0m\u001b[1;33m(\u001b[0m\u001b[0mimlist\u001b[0m\u001b[1;33m)\u001b[0m\u001b[1;33m\u001b[0m\u001b[0m\n\u001b[1;32m---> 14\u001b[1;33m \u001b[1;33m[\u001b[0m \u001b[0mprocess_image\u001b[0m\u001b[1;33m(\u001b[0m\u001b[0mimlist\u001b[0m\u001b[1;33m[\u001b[0m\u001b[0mi\u001b[0m\u001b[1;33m]\u001b[0m\u001b[1;33m.\u001b[0m\u001b[0mstrip\u001b[0m\u001b[1;33m(\u001b[0m\u001b[1;33m)\u001b[0m\u001b[1;33m,\u001b[0m \u001b[0mimlist\u001b[0m\u001b[1;33m[\u001b[0m\u001b[0mi\u001b[0m\u001b[1;33m]\u001b[0m\u001b[1;33m[\u001b[0m\u001b[1;33m:\u001b[0m\u001b[1;33m-\u001b[0m\u001b[1;36m3\u001b[0m\u001b[1;33m]\u001b[0m\u001b[1;33m.\u001b[0m\u001b[0mstrip\u001b[0m\u001b[1;33m(\u001b[0m\u001b[1;33m)\u001b[0m \u001b[1;33m+\u001b[0m \u001b[1;34m\"sift\"\u001b[0m\u001b[1;33m)\u001b[0m \u001b[1;32mfor\u001b[0m \u001b[0mi\u001b[0m \u001b[1;32min\u001b[0m \u001b[0mrange\u001b[0m\u001b[1;33m(\u001b[0m\u001b[0mnbr_images\u001b[0m\u001b[1;33m)\u001b[0m\u001b[1;33m]\u001b[0m\u001b[1;33m\u001b[0m\u001b[0m\n\u001b[0m",
      "\u001b[1;32m<ipython-input-3-bba6a1d7b78e>\u001b[0m in \u001b[0;36mprocess_image\u001b[1;34m(imagename, resultname, params)\u001b[0m\n\u001b[0;32m      1\u001b[0m \u001b[1;32mdef\u001b[0m \u001b[0mprocess_image\u001b[0m\u001b[1;33m(\u001b[0m\u001b[0mimagename\u001b[0m\u001b[1;33m,\u001b[0m \u001b[0mresultname\u001b[0m\u001b[1;33m,\u001b[0m \u001b[0mparams\u001b[0m\u001b[1;33m=\u001b[0m\u001b[1;34m\"--edge-thresh 10 --peak-thresh 5\"\u001b[0m\u001b[1;33m)\u001b[0m\u001b[1;33m:\u001b[0m\u001b[1;33m\u001b[0m\u001b[0m\n\u001b[0;32m      2\u001b[0m     \u001b[1;32mif\u001b[0m \u001b[0mimagename\u001b[0m\u001b[1;33m[\u001b[0m\u001b[1;33m-\u001b[0m\u001b[1;36m3\u001b[0m\u001b[1;33m:\u001b[0m\u001b[1;33m]\u001b[0m \u001b[1;33m!=\u001b[0m \u001b[1;34m\"pgm\"\u001b[0m\u001b[1;33m:\u001b[0m\u001b[1;33m\u001b[0m\u001b[0m\n\u001b[1;32m----> 3\u001b[1;33m         \u001b[0mim\u001b[0m \u001b[1;33m=\u001b[0m \u001b[0mImage\u001b[0m\u001b[1;33m.\u001b[0m\u001b[0mopen\u001b[0m\u001b[1;33m(\u001b[0m\u001b[0mimagename\u001b[0m\u001b[1;33m)\u001b[0m\u001b[1;33m.\u001b[0m\u001b[0mconvert\u001b[0m\u001b[1;33m(\u001b[0m\u001b[1;34m\"L\"\u001b[0m\u001b[1;33m)\u001b[0m\u001b[1;33m\u001b[0m\u001b[0m\n\u001b[0m\u001b[0;32m      4\u001b[0m         \u001b[0mim\u001b[0m\u001b[1;33m.\u001b[0m\u001b[0msave\u001b[0m\u001b[1;33m(\u001b[0m\u001b[1;34m\"tmp.pgm\"\u001b[0m\u001b[1;33m)\u001b[0m\u001b[1;33m\u001b[0m\u001b[0m\n\u001b[0;32m      5\u001b[0m         \u001b[0mimagename\u001b[0m \u001b[1;33m=\u001b[0m \u001b[1;34m\"tmp.pgm\"\u001b[0m\u001b[1;33m\u001b[0m\u001b[0m\n",
      "\u001b[1;32m/usr/lib/python3/dist-packages/PIL/Image.py\u001b[0m in \u001b[0;36mconvert\u001b[1;34m(self, mode, matrix, dither, palette, colors)\u001b[0m\n\u001b[0;32m    711\u001b[0m                 \u001b[1;32mreturn\u001b[0m \u001b[0mself\u001b[0m\u001b[1;33m.\u001b[0m\u001b[0mcopy\u001b[0m\u001b[1;33m(\u001b[0m\u001b[1;33m)\u001b[0m\u001b[1;33m\u001b[0m\u001b[0m\n\u001b[0;32m    712\u001b[0m \u001b[1;33m\u001b[0m\u001b[0m\n\u001b[1;32m--> 713\u001b[1;33m         \u001b[0mself\u001b[0m\u001b[1;33m.\u001b[0m\u001b[0mload\u001b[0m\u001b[1;33m(\u001b[0m\u001b[1;33m)\u001b[0m\u001b[1;33m\u001b[0m\u001b[0m\n\u001b[0m\u001b[0;32m    714\u001b[0m \u001b[1;33m\u001b[0m\u001b[0m\n\u001b[0;32m    715\u001b[0m         \u001b[1;32mif\u001b[0m \u001b[0mmatrix\u001b[0m\u001b[1;33m:\u001b[0m\u001b[1;33m\u001b[0m\u001b[0m\n",
      "\u001b[1;32m/usr/lib/python3/dist-packages/PIL/ImageFile.py\u001b[0m in \u001b[0;36mload\u001b[1;34m(self)\u001b[0m\n\u001b[0;32m    219\u001b[0m \u001b[1;33m\u001b[0m\u001b[0m\n\u001b[0;32m    220\u001b[0m                     \u001b[0mb\u001b[0m \u001b[1;33m=\u001b[0m \u001b[0mb\u001b[0m \u001b[1;33m+\u001b[0m \u001b[0ms\u001b[0m\u001b[1;33m\u001b[0m\u001b[0m\n\u001b[1;32m--> 221\u001b[1;33m                     \u001b[0mn\u001b[0m\u001b[1;33m,\u001b[0m \u001b[0me\u001b[0m \u001b[1;33m=\u001b[0m \u001b[0md\u001b[0m\u001b[1;33m.\u001b[0m\u001b[0mdecode\u001b[0m\u001b[1;33m(\u001b[0m\u001b[0mb\u001b[0m\u001b[1;33m)\u001b[0m\u001b[1;33m\u001b[0m\u001b[0m\n\u001b[0m\u001b[0;32m    222\u001b[0m                     \u001b[1;32mif\u001b[0m \u001b[0mn\u001b[0m \u001b[1;33m<\u001b[0m \u001b[1;36m0\u001b[0m\u001b[1;33m:\u001b[0m\u001b[1;33m\u001b[0m\u001b[0m\n\u001b[0;32m    223\u001b[0m                         \u001b[1;32mbreak\u001b[0m\u001b[1;33m\u001b[0m\u001b[0m\n",
      "\u001b[1;31mKeyboardInterrupt\u001b[0m: "
     ],
     "output_type": "error"
    }
   ],
   "source": [
    "def process_image(imagename, resultname, params=\"--edge-thresh 10 --peak-thresh 5\"):\n",
    "    if imagename[-3:] != \"pgm\":\n",
    "        im = Image.open(imagename).convert(\"L\")\n",
    "        im.save(\"tmp.pgm\")\n",
    "        imagename = \"tmp.pgm\"\n",
    "    \n",
    "    cmd = str(\"sift \" + imagename + \" --output=\" + resultname + \" \" + params)\n",
    "    os.system(cmd)\n",
    "    print(\"processed \" + imagename + \" to \" + resultname)\n",
    "    \n",
    "with open(\"./data/webimlist.txt\") as f:\n",
    "    imlist = f.readlines()\n",
    "nbr_images = len(imlist)\n",
    "[ process_image(imlist[i].strip(), imlist[i][:-3].strip() + \"sift\") for i in range(nbr_images)]"
   ]
  },
  {
   "cell_type": "code",
   "execution_count": 3,
   "metadata": {
    "collapsed": false
   },
   "outputs": [
    {
     "ename": "TypeError",
     "evalue": "sum() takes no keyword arguments",
     "traceback": [
      "\u001b[1;31m---------------------------------------------------------------------------\u001b[0m",
      "\u001b[1;31mTypeError\u001b[0m                                 Traceback (most recent call last)",
      "\u001b[1;32m<ipython-input-3-85c4976fde20>\u001b[0m in \u001b[0;36m<module>\u001b[1;34m()\u001b[0m\n\u001b[0;32m      5\u001b[0m \u001b[1;33m\u001b[0m\u001b[0m\n\u001b[0;32m      6\u001b[0m \u001b[0mvoc\u001b[0m \u001b[1;33m=\u001b[0m \u001b[0mvocabulary\u001b[0m\u001b[1;33m.\u001b[0m\u001b[0mVocabulary\u001b[0m\u001b[1;33m(\u001b[0m\u001b[1;34m\"ukbenchtest\"\u001b[0m\u001b[1;33m)\u001b[0m\u001b[1;33m\u001b[0m\u001b[0m\n\u001b[1;32m----> 7\u001b[1;33m \u001b[0mvoc\u001b[0m\u001b[1;33m.\u001b[0m\u001b[0mtrain\u001b[0m\u001b[1;33m(\u001b[0m\u001b[0mfeatlist\u001b[0m\u001b[1;33m,\u001b[0m \u001b[1;36m1000\u001b[0m\u001b[1;33m,\u001b[0m \u001b[1;36m10\u001b[0m\u001b[1;33m)\u001b[0m\u001b[1;33m\u001b[0m\u001b[0m\n\u001b[0m\u001b[0;32m      8\u001b[0m \u001b[1;33m\u001b[0m\u001b[0m\n",
      "\u001b[1;32m/home/vocabulary.py\u001b[0m in \u001b[0;36mtrain\u001b[1;34m(self, featurefiles, k, subsampling)\u001b[0m\n\u001b[0;32m     46\u001b[0m         \u001b[1;32mfor\u001b[0m \u001b[0mi\u001b[0m \u001b[1;32min\u001b[0m \u001b[0mrange\u001b[0m\u001b[1;33m(\u001b[0m\u001b[0mnbr_images\u001b[0m\u001b[1;33m)\u001b[0m\u001b[1;33m:\u001b[0m\u001b[1;33m\u001b[0m\u001b[0m\n\u001b[0;32m     47\u001b[0m             \u001b[0mimwords\u001b[0m\u001b[1;33m[\u001b[0m\u001b[0mi\u001b[0m\u001b[1;33m]\u001b[0m \u001b[1;33m=\u001b[0m \u001b[0mself\u001b[0m\u001b[1;33m.\u001b[0m\u001b[0mproject\u001b[0m\u001b[1;33m(\u001b[0m\u001b[0mdescr\u001b[0m\u001b[1;33m[\u001b[0m\u001b[0mi\u001b[0m\u001b[1;33m]\u001b[0m\u001b[1;33m)\u001b[0m\u001b[1;33m\u001b[0m\u001b[0m\n\u001b[1;32m---> 48\u001b[1;33m \u001b[1;33m\u001b[0m\u001b[0m\n\u001b[0m\u001b[0;32m     49\u001b[0m         \u001b[0mnbr_occurences\u001b[0m \u001b[1;33m=\u001b[0m \u001b[0msum\u001b[0m\u001b[1;33m(\u001b[0m\u001b[1;33m(\u001b[0m\u001b[0mimwords\u001b[0m \u001b[1;33m>\u001b[0m \u001b[1;36m0\u001b[0m\u001b[1;33m)\u001b[0m\u001b[1;33m*\u001b[0m\u001b[1;36m1\u001b[0m\u001b[1;33m,\u001b[0m \u001b[0maxis\u001b[0m\u001b[1;33m=\u001b[0m\u001b[1;36m0\u001b[0m\u001b[1;33m)\u001b[0m\u001b[1;33m\u001b[0m\u001b[0m\n\u001b[0;32m     50\u001b[0m \u001b[1;33m\u001b[0m\u001b[0m\n",
      "\u001b[1;31mTypeError\u001b[0m: sum() takes no keyword arguments"
     ],
     "output_type": "error"
    }
   ],
   "source": [
    "with open(\"./data/webimlist.txt\") as f:\n",
    "    imlist = f.readlines()\n",
    "nbr_images = len(imlist)\n",
    "featlist = [ imlist[i][:-3] + \"sift\" for i in range(nbr_images)]\n",
    "\n",
    "voc = vocabulary.Vocabulary(\"ukbenchtest\")\n",
    "voc.train(featlist, 1000, 10)"
   ]
  },
  {
   "cell_type": "code",
   "execution_count": null,
   "metadata": {
    "collapsed": true
   },
   "outputs": [],
   "source": [
    "with open(data/vocabulary.pkl, \"wb\") as f:\n",
    "    pickle.dump(voc, f)\n",
    "print(\"vocabulary is: \", voc.name, voc.nbr_words)"
   ]
  }
 ],
 "metadata": {
  "kernelspec": {
   "display_name": "Python 3",
   "language": "python",
   "name": "python3"
  },
  "language_info": {
   "codemirror_mode": {
    "name": "ipython",
    "version": 3.0
   },
   "file_extension": ".py",
   "mimetype": "text/x-python",
   "name": "python",
   "nbconvert_exporter": "python",
   "pygments_lexer": "ipython3",
   "version": "3.4.3"
  }
 },
 "nbformat": 4,
 "nbformat_minor": 0
}